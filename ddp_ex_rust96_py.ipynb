{
 "cells": [
  {
   "cell_type": "markdown",
   "metadata": {},
   "source": [
    "# DiscreteDP Example: Automobile Replacement"
   ]
  },
  {
   "cell_type": "markdown",
   "metadata": {},
   "source": [
    "**Daisuke Oyama**\n",
    "\n",
    "*Faculty of Economics, University of Tokyo*"
   ]
  },
  {
   "cell_type": "markdown",
   "metadata": {},
   "source": [
    "We study the finite-state version of the automobile replacement problem as considered in\n",
    "Rust (1996, Section 4.2.2)."
   ]
  },
  {
   "cell_type": "markdown",
   "metadata": {},
   "source": [
    "* J. Rust, \"Numerical Dynamic Programming in Economics\",\n",
    "  <i>Handbook of Computational Economics</i>, Volume 1, 619-729, 1996."
   ]
  },
  {
   "cell_type": "code",
   "execution_count": 1,
   "metadata": {},
   "outputs": [],
   "source": [
    "%matplotlib inline"
   ]
  },
  {
   "cell_type": "code",
   "execution_count": 2,
   "metadata": {},
   "outputs": [],
   "source": [
    "import numpy as np\n",
    "import itertools\n",
    "import scipy.optimize\n",
    "import matplotlib.pyplot as plt\n",
    "import pandas as pd\n",
    "from quantecon.markov import DiscreteDP"
   ]
  },
  {
   "cell_type": "code",
   "execution_count": 3,
   "metadata": {},
   "outputs": [],
   "source": [
    "# matplotlib settings\n",
    "plt.rcParams['axes.autolimit_mode'] = 'round_numbers'\n",
    "plt.rcParams['axes.xmargin'] = 0\n",
    "plt.rcParams['axes.ymargin'] = 0\n",
    "plt.rcParams['patch.force_edgecolor'] = True\n",
    "\n",
    "from cycler import cycler\n",
    "plt.rcParams['axes.prop_cycle'] = cycler(color='bgrcmyk')"
   ]
  },
  {
   "cell_type": "markdown",
   "metadata": {},
   "source": [
    "## Setup"
   ]
  },
  {
   "cell_type": "code",
   "execution_count": 4,
   "metadata": {},
   "outputs": [],
   "source": [
    "lambd = 0.5        # Exponential distribution parameter\n",
    "c = 200            # (Constant) marginal cost of maintainance\n",
    "net_price = 10**5  # Replacement cost"
   ]
  },
  {
   "cell_type": "code",
   "execution_count": 5,
   "metadata": {},
   "outputs": [],
   "source": [
    "n = 100  # Number of states; s = 0, ..., n-1: level of utilization of the asset\n",
    "m = 2    # Number of actions; 0: keep, 1: replace"
   ]
  },
  {
   "cell_type": "code",
   "execution_count": 6,
   "metadata": {},
   "outputs": [],
   "source": [
    "# Reward array\n",
    "R = np.empty((n, m))\n",
    "R[:, 0] = -c * np.arange(n)   # Costs for maintainance\n",
    "R[:, 1] = -net_price - c * 0  # Costs for replacement"
   ]
  },
  {
   "cell_type": "code",
   "execution_count": 7,
   "metadata": {},
   "outputs": [],
   "source": [
    "# Transition probability array\n",
    "# For each state s, s' distributes over\n",
    "# s, s+1, ..., min{s+supp_size-1, n-1} if a = 0\n",
    "# 0, 1, ..., supp_size-1 if a = 1\n",
    "# according to the (discretized and truncated) exponential distribution\n",
    "# with parameter lambd\n",
    "supp_size = 12\n",
    "probs = np.empty(supp_size)\n",
    "probs[0] = 1 - np.exp(-lambd * 0.5)\n",
    "for j in range(1, supp_size-1):\n",
    "    probs[j] = np.exp(-lambd * (j - 0.5)) - np.exp(-lambd * (j + 0.5))\n",
    "probs[supp_size-1] = 1 - np.sum(probs[:-1])\n",
    "\n",
    "Q = np.zeros((n, m, n))\n",
    "\n",
    "# a = 0\n",
    "for i in range(n-supp_size):\n",
    "    Q[i, 0, i:i+supp_size] = probs\n",
    "for k in range(supp_size):\n",
    "    Q[n-supp_size+k, 0, n-supp_size+k:] = probs[:supp_size-k]/probs[:supp_size-k].sum()\n",
    "\n",
    "# a = 1\n",
    "for i in range(n):\n",
    "    Q[i, 1, :supp_size] = probs"
   ]
  },
  {
   "cell_type": "code",
   "execution_count": 8,
   "metadata": {},
   "outputs": [],
   "source": [
    "# Discount factor\n",
    "beta = 0.95"
   ]
  },
  {
   "cell_type": "markdown",
   "metadata": {},
   "source": [
    "## Continuous-state benchmark"
   ]
  },
  {
   "cell_type": "markdown",
   "metadata": {},
   "source": [
    "Let us compute the value function of the continuous-state version\n",
    "as described in equations (2.22) and (2.23) in Section 2.3."
   ]
  },
  {
   "cell_type": "code",
   "execution_count": 9,
   "metadata": {},
   "outputs": [],
   "source": [
    "def f(x, s):\n",
    "    return (c/(1-beta)) * \\\n",
    "        ((x-s) - (beta/(lambd*(1-beta))) * (1 - np.exp(-lambd*(1-beta)*(x-s))))"
   ]
  },
  {
   "cell_type": "markdown",
   "metadata": {},
   "source": [
    "The optimal stopping boundary $\\gamma$ for the contiuous-state version, given by (2.23):"
   ]
  },
  {
   "cell_type": "code",
   "execution_count": 10,
   "metadata": {},
   "outputs": [
    {
     "name": "stdout",
     "output_type": "stream",
     "text": [
      "52.86545636058919\n"
     ]
    }
   ],
   "source": [
    "gamma = scipy.optimize.brentq(lambda x: f(x, 0) - net_price, 0, 100)\n",
    "print(gamma)"
   ]
  },
  {
   "cell_type": "markdown",
   "metadata": {},
   "source": [
    "The value function for the continuous-state version, given by (2.24):"
   ]
  },
  {
   "cell_type": "code",
   "execution_count": 11,
   "metadata": {},
   "outputs": [],
   "source": [
    "def value_func_cont_time(s):\n",
    "    return -c*gamma/(1-beta) + (s < gamma) * f(gamma, s)"
   ]
  },
  {
   "cell_type": "code",
   "execution_count": 12,
   "metadata": {},
   "outputs": [],
   "source": [
    "v_cont = value_func_cont_time(np.arange(n))"
   ]
  },
  {
   "cell_type": "markdown",
   "metadata": {},
   "source": [
    "## Solving the problem with `DiscreteDP`"
   ]
  },
  {
   "cell_type": "markdown",
   "metadata": {},
   "source": [
    "Construct a `DiscreteDP` instance for the disrete-state version:"
   ]
  },
  {
   "cell_type": "code",
   "execution_count": 13,
   "metadata": {},
   "outputs": [],
   "source": [
    "ddp = DiscreteDP(R, Q, beta)"
   ]
  },
  {
   "cell_type": "markdown",
   "metadata": {},
   "source": [
    "Let us solve the decision problem by\n",
    "\n",
    "(0) value iteration,  \n",
    "(1) value iteration with span-based termination\n",
    "(equivalent to modified policy iteration with step $k = 0$),  \n",
    "(2) policy iteration,  \n",
    "(3) modified policy iteration."
   ]
  },
  {
   "cell_type": "markdown",
   "metadata": {},
   "source": [
    "Following Rust (1996), we set:\n",
    "\n",
    "* $\\varepsilon = 1164$ (for value iteration and modified policy iteration),\n",
    "* $v^0 \\equiv 0$,\n",
    "* the number of iteration for iterative policy evaluation $k = 20$."
   ]
  },
  {
   "cell_type": "code",
   "execution_count": 14,
   "metadata": {},
   "outputs": [],
   "source": [
    "v_init = np.zeros(ddp.num_states)\n",
    "epsilon = 1164\n",
    "methods = ['vi', 'mpi', 'pi', 'mpi']\n",
    "labels = ['Value iteration', 'Value iteration with span-based termination',\n",
    "          'Policy iteration', 'Modified policy iteration']\n",
    "results = {}\n",
    "\n",
    "for i in range(4):\n",
    "    k = 20 if labels[i] == 'Modified policy iteration' else 0\n",
    "    results[labels[i]] = \\\n",
    "        ddp.solve(method=methods[i], v_init=v_init, epsilon=epsilon, k=k)"
   ]
  },
  {
   "cell_type": "code",
   "execution_count": 15,
   "metadata": {},
   "outputs": [],
   "source": [
    "columns = [\n",
    "    'Iterations', 'Time (second)', r'$\\lVert v - v_{\\mathrm{pi}} \\rVert$',\n",
    "    r'$\\overline{b} - \\underline{b}$', r'$\\lVert v - T(v)\\rVert$'\n",
    "]\n",
    "df = pd.DataFrame(index=labels, columns=columns)"
   ]
  },
  {
   "cell_type": "markdown",
   "metadata": {},
   "source": [
    "The numbers of iterations:"
   ]
  },
  {
   "cell_type": "code",
   "execution_count": 16,
   "metadata": {},
   "outputs": [
    {
     "name": "stdout",
     "output_type": "stream",
     "text": [
      "114 \t(Value iteration)\n",
      "65 \t(Value iteration with span-based termination)\n",
      "5 \t(Policy iteration)\n",
      "6 \t(Modified policy iteration)\n"
     ]
    }
   ],
   "source": [
    "for label in labels:\n",
    "    print(results[label].num_iter, '\\t' + '(' + label + ')')\n",
    "    df.loc[label, columns[0]] = results[label].num_iter"
   ]
  },
  {
   "cell_type": "markdown",
   "metadata": {},
   "source": [
    "Policy iteration gives the optimal policy:"
   ]
  },
  {
   "cell_type": "code",
   "execution_count": 17,
   "metadata": {},
   "outputs": [
    {
     "name": "stdout",
     "output_type": "stream",
     "text": [
      "[0 0 0 0 0 0 0 0 0 0 0 0 0 0 0 0 0 0 0 0 0 0 0 0 0 0 0 0 0 0 0 0 0 0 0 0 0\n",
      " 0 0 0 0 0 0 0 0 0 0 0 0 0 0 0 0 1 1 1 1 1 1 1 1 1 1 1 1 1 1 1 1 1 1 1 1 1\n",
      " 1 1 1 1 1 1 1 1 1 1 1 1 1 1 1 1 1 1 1 1 1 1 1 1 1 1]\n"
     ]
    }
   ],
   "source": [
    "print(results['Policy iteration'].sigma)"
   ]
  },
  {
   "cell_type": "markdown",
   "metadata": {},
   "source": [
    "Takes action 1 (\"replace\") if and only if $s \\geq \\bar{\\gamma}$, where $\\bar{\\gamma}$ is equal to:"
   ]
  },
  {
   "cell_type": "code",
   "execution_count": 18,
   "metadata": {},
   "outputs": [
    {
     "data": {
      "text/plain": [
       "53"
      ]
     },
     "execution_count": 18,
     "metadata": {},
     "output_type": "execute_result"
    }
   ],
   "source": [
    "(1-results['Policy iteration'].sigma).sum()"
   ]
  },
  {
   "cell_type": "markdown",
   "metadata": {},
   "source": [
    "Check that the other methods gave the correct answer:"
   ]
  },
  {
   "cell_type": "code",
   "execution_count": 19,
   "metadata": {},
   "outputs": [
    {
     "name": "stdout",
     "output_type": "stream",
     "text": [
      "True\n",
      "True\n",
      "True\n"
     ]
    }
   ],
   "source": [
    "for result in results.values():\n",
    "    if result != results['Policy iteration']:\n",
    "        print(np.array_equal(result.sigma, results['Policy iteration'].sigma))"
   ]
  },
  {
   "cell_type": "markdown",
   "metadata": {},
   "source": [
    "The deviations of the returned value function from the continuous-state benchmark:"
   ]
  },
  {
   "cell_type": "code",
   "execution_count": 20,
   "metadata": {},
   "outputs": [
    {
     "name": "stdout",
     "output_type": "stream",
     "text": [
      "1733.779101960361 \t(Value iteration)\n",
      "1085.8057169329695 \t(Value iteration with span-based termination)\n",
      "1162.880608632724 \t(Policy iteration)\n",
      "1144.477283824759 \t(Modified policy iteration)\n"
     ]
    }
   ],
   "source": [
    "diffs_cont = {}\n",
    "for label in labels:\n",
    "    diffs_cont[label] = np.abs(results[label].v - v_cont).max()\n",
    "    print(diffs_cont[label], '\\t' + '(' + label + ')')"
   ]
  },
  {
   "cell_type": "code",
   "execution_count": 21,
   "metadata": {},
   "outputs": [
    {
     "data": {
      "image/png": "[encoded data removed]",
      "text/plain": [
       "<Figure size 576x360 with 1 Axes>"
      ]
     },
     "metadata": {},
     "output_type": "display_data"
    }
   ],
   "source": [
    "label = 'Policy iteration'\n",
    "fig, ax = plt.subplots(figsize=(8,5))\n",
    "ax.plot(-v_cont, label='Continuous-state')\n",
    "ax.plot(-results[label].v, label=label)\n",
    "ax.set_title('Comparison of discrete vs. continuous value functions')\n",
    "ax.ticklabel_format(style='sci', axis='y', scilimits=(0,0))\n",
    "ax.set_xlabel('State')\n",
    "ax.set_ylabel(r'Value $\\times\\ (-1)$')\n",
    "plt.legend(loc=4)\n",
    "plt.show()"
   ]
  },
  {
   "cell_type": "markdown",
   "metadata": {},
   "source": [
    "In the following we try to reproduce Table 14.1 in Rust (1996), p.660,\n",
    "although the precise definitions and procedures there are not very clear."
   ]
  },
  {
   "cell_type": "markdown",
   "metadata": {},
   "source": [
    "The maximum absolute differences of $v$ from that by policy iteration:"
   ]
  },
  {
   "cell_type": "code",
   "execution_count": 22,
   "metadata": {},
   "outputs": [
    {
     "name": "stdout",
     "output_type": "stream",
     "text": [
      "571.6578080339823 \t(Value iteration)\n",
      "124.13762614113512 \t(Value iteration with span-based termination)\n",
      "0.0 \t(Policy iteration)\n",
      "44.26734841032885 \t(Modified policy iteration)\n"
     ]
    }
   ],
   "source": [
    "for label in labels:\n",
    "    diff_pi = \\\n",
    "        np.abs(results[label].v - results['Policy iteration'].v).max()\n",
    "    print(diff_pi, '\\t' + '(' + label + ')')\n",
    "    df.loc[label, columns[2]] = diff_pi"
   ]
  },
  {
   "cell_type": "markdown",
   "metadata": {},
   "source": [
    "Compute $\\lVert v - T(v)\\rVert$:"
   ]
  },
  {
   "cell_type": "code",
   "execution_count": 23,
   "metadata": {},
   "outputs": [
    {
     "name": "stdout",
     "output_type": "stream",
     "text": [
      "29.080024668044643 \t(Value iteration)\n",
      "27.78833861692692 \t(Value iteration with span-based termination)\n",
      "1.7462298274040222e-10 \t(Policy iteration)\n",
      "6.597127532120794 \t(Modified policy iteration)\n"
     ]
    }
   ],
   "source": [
    "for label in labels:\n",
    "    v = results[label].v\n",
    "    diff_max = \\\n",
    "        np.abs(v - ddp.bellman_operator(v)).max()\n",
    "    print(diff_max, '\\t' + '(' + label + ')')\n",
    "    df.loc[label, columns[4]] = diff_max"
   ]
  },
  {
   "cell_type": "markdown",
   "metadata": {},
   "source": [
    "Next we compute $\\overline{b} - \\underline{b}$\n",
    "for the three methods other than policy iteration, where\n",
    "$I$ is the number of iterations required to fulfill the termination condition, and\n",
    "$$\n",
    "\\begin{aligned}\n",
    "\\underline{b} &= \\frac{\\beta}{1-\\beta} \\min\\left[T(v^{I-1}) - v^{I-1}\\right], \\\\\\\\\n",
    "\\overline{b}  &= \\frac{\\beta}{1-\\beta} \\max\\left[T(v^{I-1}) - v^{I-1}\\right].\n",
    "\\end{aligned}\n",
    "$$"
   ]
  },
  {
   "cell_type": "code",
   "execution_count": 24,
   "metadata": {},
   "outputs": [
    {
     "name": "stdout",
     "output_type": "stream",
     "text": [
      "26.465574393529074 \t(Value iteration)\n",
      "1141.0513007884717 \t(Value iteration with span-based termination)\n",
      "267.4945517340672 \t(Modified policy iteration)\n"
     ]
    }
   ],
   "source": [
    "for i in range(4):\n",
    "    if labels[i] != 'Policy iteration':\n",
    "        k = 20 if labels[i] == 'Modified policy iteration' else 0\n",
    "        res = ddp.solve(method=methods[i], v_init=v_init, k=k,\n",
    "                        max_iter=results[labels[i]].num_iter-1)\n",
    "        diff = ddp.bellman_operator(res.v) - res.v\n",
    "        diff_span = (diff.max() - diff.min()) * ddp.beta / (1 - ddp.beta)\n",
    "        print(diff_span, '\\t' + '(' + labels[i] + ')')\n",
    "        df.loc[labels[i], columns[3]] = diff_span"
   ]
  },
  {
   "cell_type": "markdown",
   "metadata": {},
   "source": [
    "For policy iteration, while it does not seem really relevant,\n",
    "we compute $\\overline{b} - \\underline{b}$ with the returned value of $v$\n",
    "in place of $v^{I-1}$:"
   ]
  },
  {
   "cell_type": "code",
   "execution_count": 25,
   "metadata": {},
   "outputs": [
    {
     "name": "stdout",
     "output_type": "stream",
     "text": [
      "3.8708094507455784e-09 \t(Policy iteration)\n"
     ]
    }
   ],
   "source": [
    "label = 'Policy iteration'\n",
    "v = results[label].v\n",
    "diff = ddp.bellman_operator(v) - v\n",
    "diff_span = (diff.max() - diff.min()) * ddp.beta / (1 - ddp.beta)\n",
    "print(diff_span, '\\t' + '(' + label + ')')\n",
    "df.loc[label, columns[3]] = diff_span"
   ]
  },
  {
   "cell_type": "markdown",
   "metadata": {},
   "source": [
    "Last, time each algorithm:"
   ]
  },
  {
   "cell_type": "code",
   "execution_count": 26,
   "metadata": {},
   "outputs": [
    {
     "name": "stdout",
     "output_type": "stream",
     "text": [
      "Value iteration\n",
      "4.47 ms ± 34.6 µs per loop (mean ± std. dev. of 7 runs, 100 loops each)\n",
      "Value iteration with span-based termination\n",
      "4.33 ms ± 12.8 µs per loop (mean ± std. dev. of 7 runs, 100 loops each)\n",
      "Policy iteration\n",
      "1.24 ms ± 4.19 µs per loop (mean ± std. dev. of 7 runs, 1000 loops each)\n",
      "Modified policy iteration\n",
      "1.46 ms ± 4.95 µs per loop (mean ± std. dev. of 7 runs, 1000 loops each)\n"
     ]
    }
   ],
   "source": [
    "for i in range(4):\n",
    "    k = 20 if labels[i] == 'Modified policy iteration' else 0\n",
    "    print(labels[i])\n",
    "    t = %timeit -o ddp.solve(method=methods[i], v_init=v_init, epsilon=epsilon, k=k)\n",
    "    df.loc[labels[i], columns[1]] = t.best"
   ]
  },
  {
   "cell_type": "code",
   "execution_count": 27,
   "metadata": {},
   "outputs": [
    {
     "data": {
      "text/html": [
       "<div>\n",
       "<style scoped>\n",
       "    .dataframe tbody tr th:only-of-type {\n",
       "        vertical-align: middle;\n",
       "    }\n",
       "\n",
       "    .dataframe tbody tr th {\n",
       "        vertical-align: top;\n",
       "    }\n",
       "\n",
       "    .dataframe thead th {\n",
       "        text-align: right;\n",
       "    }\n",
       "</style>\n",
       "<table border=\"1\" class=\"dataframe\">\n",
       "  <thead>\n",
       "    <tr style=\"text-align: right;\">\n",
       "      <th></th>\n",
       "      <th>Iterations</th>\n",
       "      <th>Time (second)</th>\n",
       "      <th>$\\lVert v - v_{\\mathrm{pi}} \\rVert$</th>\n",
       "      <th>$\\overline{b} - \\underline{b}$</th>\n",
       "      <th>$\\lVert v - T(v)\\rVert$</th>\n",
       "    </tr>\n",
       "  </thead>\n",
       "  <tbody>\n",
       "    <tr>\n",
       "      <th>Value iteration</th>\n",
       "      <td>114</td>\n",
       "      <td>0.00442403</td>\n",
       "      <td>571.658</td>\n",
       "      <td>26.4656</td>\n",
       "      <td>29.08</td>\n",
       "    </tr>\n",
       "    <tr>\n",
       "      <th>Value iteration with span-based termination</th>\n",
       "      <td>65</td>\n",
       "      <td>0.00431911</td>\n",
       "      <td>124.138</td>\n",
       "      <td>1141.05</td>\n",
       "      <td>27.7883</td>\n",
       "    </tr>\n",
       "    <tr>\n",
       "      <th>Policy iteration</th>\n",
       "      <td>5</td>\n",
       "      <td>0.00122849</td>\n",
       "      <td>0</td>\n",
       "      <td>3.87081e-09</td>\n",
       "      <td>1.74623e-10</td>\n",
       "    </tr>\n",
       "    <tr>\n",
       "      <th>Modified policy iteration</th>\n",
       "      <td>6</td>\n",
       "      <td>0.00145391</td>\n",
       "      <td>44.2673</td>\n",
       "      <td>267.495</td>\n",
       "      <td>6.59713</td>\n",
       "    </tr>\n",
       "  </tbody>\n",
       "</table>\n",
       "</div>"
      ],
      "text/plain": [
       "                                            Iterations Time (second)  \\\n",
       "Value iteration                                    114    0.00442403   \n",
       "Value iteration with span-based termination         65    0.00431911   \n",
       "Policy iteration                                     5    0.00122849   \n",
       "Modified policy iteration                            6    0.00145391   \n",
       "\n",
       "                                            $\\lVert v - v_{\\mathrm{pi}} \\rVert$  \\\n",
       "Value iteration                                                         571.658   \n",
       "Value iteration with span-based termination                             124.138   \n",
       "Policy iteration                                                              0   \n",
       "Modified policy iteration                                               44.2673   \n",
       "\n",
       "                                            $\\overline{b} - \\underline{b}$  \\\n",
       "Value iteration                                                    26.4656   \n",
       "Value iteration with span-based termination                        1141.05   \n",
       "Policy iteration                                               3.87081e-09   \n",
       "Modified policy iteration                                          267.495   \n",
       "\n",
       "                                            $\\lVert v - T(v)\\rVert$  \n",
       "Value iteration                                               29.08  \n",
       "Value iteration with span-based termination                 27.7883  \n",
       "Policy iteration                                        1.74623e-10  \n",
       "Modified policy iteration                                   6.59713  "
      ]
     },
     "execution_count": 27,
     "metadata": {},
     "output_type": "execute_result"
    }
   ],
   "source": [
    "df"
   ]
  },
  {
   "cell_type": "markdown",
   "metadata": {},
   "source": [
    "### Notes"
   ]
  },
  {
   "cell_type": "markdown",
   "metadata": {},
   "source": [
    "It appears that our value iteration with span-based termination is different in some details\n",
    "from the corresponding algorithm (successive approximation with error bounds) in Rust.\n",
    "In returing the value function, our algorithm returns\n",
    "$T(v^{I-1}) + (\\overline{b} + \\underline{b})/2$,\n",
    "while Rust's seems to return $v^{I-1} + (\\overline{b} + \\underline{b})/2$.\n",
    "In fact:"
   ]
  },
  {
   "cell_type": "code",
   "execution_count": 28,
   "metadata": {},
   "outputs": [],
   "source": [
    "i = 1\n",
    "k = 0\n",
    "res = ddp.solve(method=methods[i], v_init=v_init, k=k,\n",
    "                max_iter=results[labels[i]].num_iter-1)\n",
    "diff = ddp.bellman_operator(res.v) - res.v\n",
    "v = res.v + (diff.max() + diff.min()) * ddp.beta / (1 - ddp.beta) / 2"
   ]
  },
  {
   "cell_type": "markdown",
   "metadata": {},
   "source": [
    "$\\lVert v - v_{\\mathrm{pi}}\\rVert$:"
   ]
  },
  {
   "cell_type": "code",
   "execution_count": 29,
   "metadata": {},
   "outputs": [
    {
     "data": {
      "text/plain": [
       "503.4300117044477"
      ]
     },
     "execution_count": 29,
     "metadata": {},
     "output_type": "execute_result"
    }
   ],
   "source": [
    "np.abs(v - results['Policy iteration'].v).max()"
   ]
  },
  {
   "cell_type": "markdown",
   "metadata": {},
   "source": [
    "$\\lVert v - T(v)\\rVert$:"
   ]
  },
  {
   "cell_type": "code",
   "execution_count": 30,
   "metadata": {},
   "outputs": [
    {
     "data": {
      "text/plain": [
       "48.49961796964635"
      ]
     },
     "execution_count": 30,
     "metadata": {},
     "output_type": "execute_result"
    }
   ],
   "source": [
    "np.abs(v - ddp.bellman_operator(v)).max()"
   ]
  },
  {
   "cell_type": "markdown",
   "metadata": {},
   "source": [
    "Compare the Table in Rust."
   ]
  },
  {
   "cell_type": "markdown",
   "metadata": {},
   "source": [
    "## Convergence of trajectories"
   ]
  },
  {
   "cell_type": "markdown",
   "metadata": {},
   "source": [
    "Let us plot the convergence of $v^i$ for the four algorithms;\n",
    "see also Figure 14.2 in Rust."
   ]
  },
  {
   "cell_type": "markdown",
   "metadata": {},
   "source": [
    "### Value iteration"
   ]
  },
  {
   "cell_type": "code",
   "execution_count": 31,
   "metadata": {},
   "outputs": [
    {
     "data": {
      "image/png": "[encoded data removed]",
      "text/plain": [
       "<Figure size 576x360 with 1 Axes>"
      ]
     },
     "metadata": {},
     "output_type": "display_data"
    }
   ],
   "source": [
    "label = 'Value iteration'\n",
    "iters = [2, 20, 40, 80]\n",
    "v = np.zeros(ddp.num_states)\n",
    "\n",
    "fig, ax = plt.subplots(figsize=(8,5))\n",
    "for i in range(iters[-1]):\n",
    "    v = ddp.bellman_operator(v)\n",
    "    if i+1 in iters:\n",
    "        ax.plot(-v, label='Iteration {0}'.format(i+1))\n",
    "ax.plot(-results['Policy iteration'].v, label='Fixed Point')\n",
    "\n",
    "ax.ticklabel_format(style='sci', axis='y', scilimits=(0,0))\n",
    "ax.set_ylim(0, 2.4e5)\n",
    "ax.set_yticks([0.4e5 * i for i in range(7)])\n",
    "ax.set_title(label)\n",
    "ax.set_xlabel('State')\n",
    "ax.set_ylabel(r'Value $\\times\\ (-1)$')\n",
    "plt.legend(loc=(0.7, 0.2))\n",
    "plt.show()"
   ]
  },
  {
   "cell_type": "markdown",
   "metadata": {},
   "source": [
    "### Value iteration with span-based termination"
   ]
  },
  {
   "cell_type": "code",
   "execution_count": 32,
   "metadata": {},
   "outputs": [
    {
     "data": {
      "image/png": "[encoded data removed]",
      "text/plain": [
       "<Figure size 576x360 with 1 Axes>"
      ]
     },
     "metadata": {},
     "output_type": "display_data"
    }
   ],
   "source": [
    "label = 'Value iteration with span-based termination'\n",
    "iters = [1, 10, 15, 20]\n",
    "v = np.zeros(ddp.num_states)\n",
    "\n",
    "fig, ax = plt.subplots(figsize=(8,5))\n",
    "for i in range(iters[-1]):\n",
    "    u = ddp.bellman_operator(v)\n",
    "    if i+1 in iters:\n",
    "        diff = u - v\n",
    "        w = u + ((diff.max() + diff.min()) / 2) * ddp.beta / (1 - ddp.beta)\n",
    "        ax.plot(-w, label='Iteration {0}'.format(i+1))\n",
    "    v = u\n",
    "ax.plot(-results['Policy iteration'].v, label='Fixed Point')\n",
    "\n",
    "ax.ticklabel_format(style='sci', axis='y', scilimits=(0,0))\n",
    "ax.set_ylim(1.0e5, 2.4e5)\n",
    "ax.set_yticks([1.0e5+0.2e5 * i for i in range(8)])\n",
    "ax.set_title(label)\n",
    "ax.set_xlabel('State')\n",
    "ax.set_ylabel(r'Value $\\times\\ (-1)$')\n",
    "plt.legend(loc=(0.7, 0.2))\n",
    "plt.show()"
   ]
  },
  {
   "cell_type": "markdown",
   "metadata": {},
   "source": [
    "### Policy iteration"
   ]
  },
  {
   "cell_type": "code",
   "execution_count": 33,
   "metadata": {},
   "outputs": [
    {
     "data": {
      "image/png": "[encoded data removed]",
      "text/plain": [
       "<Figure size 576x360 with 1 Axes>"
      ]
     },
     "metadata": {},
     "output_type": "display_data"
    }
   ],
   "source": [
    "label = 'Policy iteration'\n",
    "iters = [1, 2, 3]\n",
    "v_init = np.zeros(ddp.num_states)\n",
    "\n",
    "fig, ax = plt.subplots(figsize=(8,5))\n",
    "sigma = ddp.compute_greedy(v_init)\n",
    "for i in range(iters[-1]):\n",
    "    # Policy evaluation\n",
    "    v_sigma = ddp.evaluate_policy(sigma)\n",
    "    if i+1 in iters:\n",
    "        ax.plot(-v_sigma, label='Iteration {0}'.format(i+1))\n",
    "    # Policy improvement\n",
    "    new_sigma = ddp.compute_greedy(v_sigma)\n",
    "    sigma = new_sigma\n",
    "ax.plot(-results['Policy iteration'].v, label='Fixed Point')\n",
    "\n",
    "ax.ticklabel_format(style='sci', axis='y', scilimits=(0,0))\n",
    "ax.set_ylim(1e5, 4.2e5)\n",
    "ax.set_yticks([1e5 + 0.4e5 * i for i in range(9)])\n",
    "ax.set_title(label)\n",
    "ax.set_xlabel('State')\n",
    "ax.set_ylabel(r'Value $\\times\\ (-1)$')\n",
    "plt.legend(loc=4)\n",
    "plt.show()"
   ]
  },
  {
   "cell_type": "markdown",
   "metadata": {},
   "source": [
    "### Modified policy iteration"
   ]
  },
  {
   "cell_type": "code",
   "execution_count": 34,
   "metadata": {},
   "outputs": [
    {
     "data": {
      "image/png": "[encoded data removed]",
      "text/plain": [
       "<Figure size 576x360 with 1 Axes>"
      ]
     },
     "metadata": {},
     "output_type": "display_data"
    }
   ],
   "source": [
    "label = 'Modified policy iteration'\n",
    "iters = [1, 2, 3, 4]\n",
    "v = np.zeros(ddp.num_states)\n",
    "k = 20 #- 1\n",
    "\n",
    "fig, ax = plt.subplots(figsize=(8,5))\n",
    "for i in range(iters[-1]):\n",
    "    # Policy improvement\n",
    "    sigma = ddp.compute_greedy(v)\n",
    "    u = ddp.bellman_operator(v)\n",
    "    if i == results[label].num_iter-1:\n",
    "        diff = u - v\n",
    "        break\n",
    "    # Partial policy evaluation with k=20 iterations\n",
    "    for j in range(k):\n",
    "        u = ddp.T_sigma(sigma)(u)\n",
    "    v = u\n",
    "    if i+1 in iters:\n",
    "        ax.plot(-v, label='Iteration {0}'.format(i+1))\n",
    "ax.plot(-results['Policy iteration'].v, label='Fixed Point')\n",
    "\n",
    "ax.ticklabel_format(style='sci', axis='y', scilimits=(0,0))\n",
    "ax.set_ylim(0, 2.8e5)\n",
    "ax.set_yticks([0.4e5 * i for i in range(8)])\n",
    "ax.set_title(label)\n",
    "ax.set_xlabel('State')\n",
    "ax.set_ylabel(r'Value $\\times\\ (-1)$')\n",
    "plt.legend(loc=4)\n",
    "plt.show()"
   ]
  },
  {
   "cell_type": "markdown",
   "metadata": {},
   "source": [
    "## Increasing the discount factor"
   ]
  },
  {
   "cell_type": "markdown",
   "metadata": {},
   "source": [
    "Let us consider the case with a discount factor closer to $1$, $\\beta = 0.9999$."
   ]
  },
  {
   "cell_type": "code",
   "execution_count": 35,
   "metadata": {},
   "outputs": [],
   "source": [
    "ddp.beta = 0.9999"
   ]
  },
  {
   "cell_type": "code",
   "execution_count": 36,
   "metadata": {},
   "outputs": [],
   "source": [
    "v_init = np.zeros(ddp.num_states)\n",
    "epsilon = 1164\n",
    "ddp.max_iter = 10**5 * 2\n",
    "\n",
    "results_9999 = {}\n",
    "\n",
    "for i in range(4):\n",
    "    k = 20 if labels[i] == 'Modified policy iteration' else 0\n",
    "    results_9999[labels[i]] = \\\n",
    "        ddp.solve(method=methods[i], v_init=v_init, epsilon=epsilon, k=k)"
   ]
  },
  {
   "cell_type": "code",
   "execution_count": 37,
   "metadata": {},
   "outputs": [],
   "source": [
    "df_9999 = pd.DataFrame(index=labels, columns=columns)"
   ]
  },
  {
   "cell_type": "markdown",
   "metadata": {},
   "source": [
    "The numbers of iterations:"
   ]
  },
  {
   "cell_type": "code",
   "execution_count": 38,
   "metadata": {},
   "outputs": [
    {
     "name": "stdout",
     "output_type": "stream",
     "text": [
      "118900 \t(Value iteration)\n",
      "288 \t(Value iteration with span-based termination)\n",
      "7 \t(Policy iteration)\n",
      "18 \t(Modified policy iteration)\n"
     ]
    }
   ],
   "source": [
    "for label in labels:\n",
    "    print(results_9999[label].num_iter, '\\t' + '(' + label + ')')\n",
    "    df_9999.loc[label, columns[0]] = results_9999[label].num_iter"
   ]
  },
  {
   "cell_type": "markdown",
   "metadata": {},
   "source": [
    "Policy iteration gives the optimal policy:"
   ]
  },
  {
   "cell_type": "code",
   "execution_count": 39,
   "metadata": {},
   "outputs": [
    {
     "name": "stdout",
     "output_type": "stream",
     "text": [
      "[0 0 0 0 0 0 0 0 0 0 0 0 0 0 0 0 0 0 0 0 0 0 0 0 0 0 0 0 0 0 0 0 0 0 0 0 0\n",
      " 0 0 0 0 0 0 1 1 1 1 1 1 1 1 1 1 1 1 1 1 1 1 1 1 1 1 1 1 1 1 1 1 1 1 1 1 1\n",
      " 1 1 1 1 1 1 1 1 1 1 1 1 1 1 1 1 1 1 1 1 1 1 1 1 1 1]\n"
     ]
    }
   ],
   "source": [
    "print(results_9999['Policy iteration'].sigma)"
   ]
  },
  {
   "cell_type": "markdown",
   "metadata": {},
   "source": [
    "Takes action 1 (\"replace\") if and only if $s \\geq \\bar{\\gamma}$, where $\\bar{\\gamma}$ is equal to:"
   ]
  },
  {
   "cell_type": "code",
   "execution_count": 40,
   "metadata": {},
   "outputs": [
    {
     "data": {
      "text/plain": [
       "43"
      ]
     },
     "execution_count": 40,
     "metadata": {},
     "output_type": "execute_result"
    }
   ],
   "source": [
    "(1-results_9999['Policy iteration'].sigma).sum()"
   ]
  },
  {
   "cell_type": "markdown",
   "metadata": {},
   "source": [
    "Check that the other methods gave the correct answer:"
   ]
  },
  {
   "cell_type": "code",
   "execution_count": 41,
   "metadata": {},
   "outputs": [
    {
     "name": "stdout",
     "output_type": "stream",
     "text": [
      "True\n",
      "True\n",
      "True\n"
     ]
    }
   ],
   "source": [
    "for result in results_9999.values():\n",
    "    if result != results_9999['Policy iteration']:\n",
    "        print(np.array_equal(result.sigma, results_9999['Policy iteration'].sigma))"
   ]
  },
  {
   "cell_type": "markdown",
   "metadata": {},
   "source": [
    "$\\lVert v - v_{\\mathrm{pi}}\\rVert$:"
   ]
  },
  {
   "cell_type": "code",
   "execution_count": 42,
   "metadata": {},
   "outputs": [
    {
     "name": "stdout",
     "output_type": "stream",
     "text": [
      "581.9987735897303 \t(Value iteration)\n",
      "4.377685442566872 \t(Value iteration with span-based termination)\n",
      "0.0 \t(Policy iteration)\n",
      "4.454900473356247 \t(Modified policy iteration)\n"
     ]
    }
   ],
   "source": [
    "for label in labels:\n",
    "    diff_pi = \\\n",
    "        np.abs(results_9999[label].v - results_9999['Policy iteration'].v).max()\n",
    "    print(diff_pi, '\\t' + '(' + label + ')')\n",
    "    df_9999.loc[label, columns[2]] = diff_pi"
   ]
  },
  {
   "cell_type": "markdown",
   "metadata": {},
   "source": [
    "$\\lVert v - T(v)\\rVert$:"
   ]
  },
  {
   "cell_type": "code",
   "execution_count": 43,
   "metadata": {},
   "outputs": [
    {
     "name": "stdout",
     "output_type": "stream",
     "text": [
      "0.058199912309646606 \t(Value iteration)\n",
      "0.05580410361289978 \t(Value iteration with span-based termination)\n",
      "4.470348358154297e-08 \t(Policy iteration)\n",
      "0.052891805768013 \t(Modified policy iteration)\n"
     ]
    }
   ],
   "source": [
    "for label in labels:\n",
    "    v = results_9999[label].v\n",
    "    diff_max = \\\n",
    "        np.abs(v - ddp.bellman_operator(v)).max()\n",
    "    print(diff_max, '\\t' + '(' + label + ')')\n",
    "    df_9999.loc[label, columns[4]] = diff_max"
   ]
  },
  {
   "cell_type": "markdown",
   "metadata": {},
   "source": [
    "$\\overline{b} - \\underline{b}$:"
   ]
  },
  {
   "cell_type": "code",
   "execution_count": 44,
   "metadata": {},
   "outputs": [
    {
     "name": "stdout",
     "output_type": "stream",
     "text": [
      "0.00044699013233189737 \t(Value iteration)\n",
      "1160.3753065593887 \t(Value iteration with span-based termination)\n",
      "1099.686026855493 \t(Modified policy iteration)\n"
     ]
    }
   ],
   "source": [
    "for i in range(4):\n",
    "    if labels[i] != 'Policy iteration':\n",
    "        k = 20 if labels[i] == 'Modified policy iteration' else 0\n",
    "        res = ddp.solve(method=methods[i], v_init=v_init, k=k,\n",
    "                        max_iter=results_9999[labels[i]].num_iter-1)\n",
    "        diff = ddp.bellman_operator(res.v) - res.v\n",
    "        diff_span = (diff.max() - diff.min()) * ddp.beta / (1 - ddp.beta)\n",
    "        print(diff_span, '\\t' + '(' + labels[i] + ')')\n",
    "        df_9999.loc[labels[i], columns[3]] = diff_span"
   ]
  },
  {
   "cell_type": "markdown",
   "metadata": {},
   "source": [
    "For policy iteration:"
   ]
  },
  {
   "cell_type": "code",
   "execution_count": 45,
   "metadata": {},
   "outputs": [
    {
     "name": "stdout",
     "output_type": "stream",
     "text": [
      "0.0005959868431091965 \t(Policy iteration)\n"
     ]
    }
   ],
   "source": [
    "label = 'Policy iteration'\n",
    "v = results_9999[label].v\n",
    "diff = ddp.bellman_operator(v) - v\n",
    "diff_span = (diff.max() - diff.min()) * ddp.beta / (1 - ddp.beta)\n",
    "print(diff_span, '\\t' + '(' + label + ')')\n",
    "df_9999.loc[label, columns[3]] = diff_span"
   ]
  },
  {
   "cell_type": "code",
   "execution_count": 46,
   "metadata": {},
   "outputs": [
    {
     "name": "stdout",
     "output_type": "stream",
     "text": [
      "Value iteration\n",
      "4.5 s ± 19.5 ms per loop (mean ± std. dev. of 7 runs, 1 loop each)\n",
      "Value iteration with span-based termination\n",
      "19.2 ms ± 559 µs per loop (mean ± std. dev. of 7 runs, 100 loops each)\n",
      "Policy iteration\n",
      "1.76 ms ± 49.7 µs per loop (mean ± std. dev. of 7 runs, 1000 loops each)\n",
      "Modified policy iteration\n",
      "4.6 ms ± 24.1 µs per loop (mean ± std. dev. of 7 runs, 100 loops each)\n"
     ]
    }
   ],
   "source": [
    "for i in range(4):\n",
    "    k = 20 if labels[i] == 'Modified policy iteration' else 0\n",
    "    print(labels[i])\n",
    "    t = %timeit -o ddp.solve(method=methods[i], v_init=v_init, epsilon=epsilon, k=k)\n",
    "    df_9999.loc[labels[i], columns[1]] = t.best"
   ]
  },
  {
   "cell_type": "code",
   "execution_count": 47,
   "metadata": {
    "scrolled": true
   },
   "outputs": [
    {
     "data": {
      "text/html": [
       "<div>\n",
       "<style scoped>\n",
       "    .dataframe tbody tr th:only-of-type {\n",
       "        vertical-align: middle;\n",
       "    }\n",
       "\n",
       "    .dataframe tbody tr th {\n",
       "        vertical-align: top;\n",
       "    }\n",
       "\n",
       "    .dataframe thead th {\n",
       "        text-align: right;\n",
       "    }\n",
       "</style>\n",
       "<table border=\"1\" class=\"dataframe\">\n",
       "  <thead>\n",
       "    <tr style=\"text-align: right;\">\n",
       "      <th></th>\n",
       "      <th>Iterations</th>\n",
       "      <th>Time (second)</th>\n",
       "      <th>$\\lVert v - v_{\\mathrm{pi}} \\rVert$</th>\n",
       "      <th>$\\overline{b} - \\underline{b}$</th>\n",
       "      <th>$\\lVert v - T(v)\\rVert$</th>\n",
       "    </tr>\n",
       "  </thead>\n",
       "  <tbody>\n",
       "    <tr>\n",
       "      <th>Value iteration</th>\n",
       "      <td>118900</td>\n",
       "      <td>4.46009</td>\n",
       "      <td>581.999</td>\n",
       "      <td>0.00044699</td>\n",
       "      <td>0.0581999</td>\n",
       "    </tr>\n",
       "    <tr>\n",
       "      <th>Value iteration with span-based termination</th>\n",
       "      <td>288</td>\n",
       "      <td>0.0187313</td>\n",
       "      <td>4.37769</td>\n",
       "      <td>1160.38</td>\n",
       "      <td>0.0558041</td>\n",
       "    </tr>\n",
       "    <tr>\n",
       "      <th>Policy iteration</th>\n",
       "      <td>7</td>\n",
       "      <td>0.00171783</td>\n",
       "      <td>0</td>\n",
       "      <td>0.000595987</td>\n",
       "      <td>4.47035e-08</td>\n",
       "    </tr>\n",
       "    <tr>\n",
       "      <th>Modified policy iteration</th>\n",
       "      <td>18</td>\n",
       "      <td>0.00454525</td>\n",
       "      <td>4.4549</td>\n",
       "      <td>1099.69</td>\n",
       "      <td>0.0528918</td>\n",
       "    </tr>\n",
       "  </tbody>\n",
       "</table>\n",
       "</div>"
      ],
      "text/plain": [
       "                                            Iterations Time (second)  \\\n",
       "Value iteration                                 118900       4.46009   \n",
       "Value iteration with span-based termination        288     0.0187313   \n",
       "Policy iteration                                     7    0.00171783   \n",
       "Modified policy iteration                           18    0.00454525   \n",
       "\n",
       "                                            $\\lVert v - v_{\\mathrm{pi}} \\rVert$  \\\n",
       "Value iteration                                                         581.999   \n",
       "Value iteration with span-based termination                             4.37769   \n",
       "Policy iteration                                                              0   \n",
       "Modified policy iteration                                                4.4549   \n",
       "\n",
       "                                            $\\overline{b} - \\underline{b}$  \\\n",
       "Value iteration                                                 0.00044699   \n",
       "Value iteration with span-based termination                        1160.38   \n",
       "Policy iteration                                               0.000595987   \n",
       "Modified policy iteration                                          1099.69   \n",
       "\n",
       "                                            $\\lVert v - T(v)\\rVert$  \n",
       "Value iteration                                           0.0581999  \n",
       "Value iteration with span-based termination               0.0558041  \n",
       "Policy iteration                                        4.47035e-08  \n",
       "Modified policy iteration                                 0.0528918  "
      ]
     },
     "execution_count": 47,
     "metadata": {},
     "output_type": "execute_result"
    }
   ],
   "source": [
    "df_9999"
   ]
  },
  {
   "cell_type": "code",
   "execution_count": 48,
   "metadata": {
    "scrolled": false
   },
   "outputs": [
    {
     "data": {
      "image/png": "[encoded data removed]",
      "text/plain": [
       "<Figure size 576x360 with 1 Axes>"
      ]
     },
     "metadata": {},
     "output_type": "display_data"
    },
    {
     "data": {
      "image/png": "[encoded data removed]",
      "text/plain": [
       "<Figure size 576x360 with 1 Axes>"
      ]
     },
     "metadata": {},
     "output_type": "display_data"
    }
   ],
   "source": [
    "df_time = pd.DataFrame(index=labels)\n",
    "df_time[r'$\\beta = 0.95$'] = df[columns[1]]\n",
    "df_time[r'$\\beta = 0.9999$'] = df_9999[columns[1]]\n",
    "second_max = df_time[r'$\\beta = 0.9999$'][1:].max()\n",
    "\n",
    "for xlim in [None, (0, second_max*1.2)]:\n",
    "    ax = df_time.loc[reversed(labels)][df_time.columns[::-1]].plot(\n",
    "        kind='barh', legend='reverse', xlim=xlim, figsize=(8,5)\n",
    "    )\n",
    "    ax.set_xlabel('Time (second)')"
   ]
  },
  {
   "cell_type": "code",
   "execution_count": 49,
   "metadata": {},
   "outputs": [
    {
     "name": "stdout",
     "output_type": "stream",
     "text": [
      "Darwin-16.7.0-x86_64-i386-64bit\n"
     ]
    }
   ],
   "source": [
    "import platform\n",
    "print(platform.platform())"
   ]
  },
  {
   "cell_type": "code",
   "execution_count": 50,
   "metadata": {},
   "outputs": [
    {
     "name": "stdout",
     "output_type": "stream",
     "text": [
      "3.6.5 |Anaconda, Inc.| (default, Apr 26 2018, 08:42:37) \n",
      "[GCC 4.2.1 Compatible Clang 4.0.1 (tags/RELEASE_401/final)]\n"
     ]
    }
   ],
   "source": [
    "import sys\n",
    "print(sys.version)"
   ]
  },
  {
   "cell_type": "code",
   "execution_count": 51,
   "metadata": {},
   "outputs": [
    {
     "name": "stdout",
     "output_type": "stream",
     "text": [
      "1.14.3\n"
     ]
    }
   ],
   "source": [
    "print(np.__version__)"
   ]
  },
  {
   "cell_type": "code",
   "execution_count": null,
   "metadata": {},
   "outputs": [],
   "source": []
  }
 ],
 "metadata": {
  "kernelspec": {
   "display_name": "Python 3",
   "language": "python",
   "name": "python3"
  },
  "language_info": {
   "codemirror_mode": {
    "name": "ipython",
    "version": 3
   },
   "file_extension": ".py",
   "mimetype": "text/x-python",
   "name": "python",
   "nbconvert_exporter": "python",
   "pygments_lexer": "ipython3",
   "version": "3.6.5"
  }
 },
 "nbformat": 4,
 "nbformat_minor": 1
}
